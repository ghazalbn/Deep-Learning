{
  "cells": [
    {
      "cell_type": "markdown",
      "metadata": {
        "id": "GrFpZXNQB9FW"
      },
      "source": [
        "#### Copyright 2018 Google LLC."
      ]
    },
    {
      "cell_type": "code",
      "execution_count": 10,
      "metadata": {
        "id": "43_9Kh8LCDPK"
      },
      "outputs": [],
      "source": [
        "# Licensed under the Apache License, Version 2.0 (the \"License\");\n",
        "# you may not use this file except in compliance with the License.\n",
        "# You may obtain a copy of the License at\n",
        "#\n",
        "# https://www.apache.org/licenses/LICENSE-2.0\n",
        "#\n",
        "# Unless required by applicable law or agreed to in writing, software\n",
        "# distributed under the License is distributed on an \"AS IS\" BASIS,\n",
        "# WITHOUT WARRANTIES OR CONDITIONS OF ANY KIND, either express or implied.\n",
        "# See the License for the specific language governing permissions and\n",
        "# limitations under the License."
      ]
    },
    {
      "cell_type": "markdown",
      "metadata": {
        "id": "YHK6DyunSbs4"
      },
      "source": [
        "# Cat vs. Dog Image Classification\n"
      ]
    },
    {
      "cell_type": "code",
      "execution_count": 11,
      "metadata": {
        "id": "xvnAdS6YFTQZ"
      },
      "outputs": [],
      "source": [
        "## Set These Parameters\n",
        "last_layer_neurons = 1\n",
        "last_layer_activation = 'sigmoid'\n",
        "loss_function = 'binary_crossentropy'"
      ]
    },
    {
      "cell_type": "code",
      "execution_count": 12,
      "metadata": {
        "id": "XK-IN_zNgLlT"
      },
      "outputs": [],
      "source": [
        "from tensorflow.keras.preprocessing.image import ImageDataGenerator\n",
        "\n",
        "datagen = ImageDataGenerator(\n",
        "      rotation_range=40,\n",
        "      width_shift_range=0.2,\n",
        "      height_shift_range=0.2,\n",
        "      shear_range=0.2,\n",
        "      zoom_range=0.2,\n",
        "      horizontal_flip=True,\n",
        "      fill_mode='nearest')"
      ]
    },
    {
      "cell_type": "code",
      "execution_count": 13,
      "metadata": {
        "colab": {
          "base_uri": "https://localhost:8080/"
        },
        "id": "dhztKtUSFMXp",
        "outputId": "00a11496-b24f-4711-8ea4-77b7272f31f3"
      },
      "outputs": [
        {
          "output_type": "stream",
          "name": "stdout",
          "text": [
            "--2022-11-10 01:03:21--  https://storage.googleapis.com/mledu-datasets/cats_and_dogs_filtered.zip\n",
            "Resolving storage.googleapis.com (storage.googleapis.com)... 142.250.145.128, 108.177.119.128, 108.177.126.128, ...\n",
            "Connecting to storage.googleapis.com (storage.googleapis.com)|142.250.145.128|:443... connected.\n",
            "HTTP request sent, awaiting response... 200 OK\n",
            "Length: 68606236 (65M) [application/zip]\n",
            "Saving to: ‘/tmp/cats_and_dogs_filtered.zip’\n",
            "\n",
            "/tmp/cats_and_dogs_ 100%[===================>]  65.43M  29.5MB/s    in 2.2s    \n",
            "\n",
            "2022-11-10 01:03:23 (29.5 MB/s) - ‘/tmp/cats_and_dogs_filtered.zip’ saved [68606236/68606236]\n",
            "\n"
          ]
        }
      ],
      "source": [
        "!wget --no-check-certificate \\\n",
        "   https://storage.googleapis.com/mledu-datasets/cats_and_dogs_filtered.zip -O \\\n",
        "   /tmp/cats_and_dogs_filtered.zip"
      ]
    },
    {
      "cell_type": "code",
      "execution_count": 14,
      "metadata": {
        "id": "LWkSRoJRfvGL"
      },
      "outputs": [],
      "source": [
        "import os\n",
        "import zipfile\n",
        "\n",
        "local_zip = '/tmp/cats_and_dogs_filtered.zip'\n",
        "zip_ref = zipfile.ZipFile(local_zip, 'r')\n",
        "zip_ref.extractall('/tmp')\n",
        "zip_ref.close()\n",
        "  \n",
        "base_dir = '/tmp/cats_and_dogs_filtered'\n",
        "train_dir = os.path.join(base_dir, 'train')\n",
        "validation_dir = os.path.join(base_dir, 'validation')\n",
        "\n",
        "# Directory with our training cat pictures\n",
        "train_cats_dir = os.path.join(train_dir, 'cats')\n",
        "\n",
        "# Directory with our training dog pictures\n",
        "train_dogs_dir = os.path.join(train_dir, 'dogs')\n",
        "\n",
        "# Directory with our validation cat pictures\n",
        "validation_cats_dir = os.path.join(validation_dir, 'cats')\n",
        "\n",
        "# Directory with our validation dog pictures\n",
        "validation_dogs_dir = os.path.join(validation_dir, 'dogs')\n",
        "\n",
        "train_cat_fnames = os.listdir(train_cats_dir)\n",
        "train_dog_fnames = os.listdir(train_dogs_dir)"
      ]
    },
    {
      "cell_type": "markdown",
      "metadata": {
        "id": "02r1oXaegECk"
      },
      "source": [
        "Next, let's apply the `datagen` transformations to a cat image from the training set to produce five random variants. Rerun the cell a few times to see fresh batches of random variants."
      ]
    },
    {
      "cell_type": "code",
      "execution_count": 15,
      "metadata": {
        "colab": {
          "base_uri": "https://localhost:8080/"
        },
        "id": "e8HgwcAbmdcu",
        "outputId": "708b43ef-aa9d-4279-df64-8243cbff5527"
      },
      "outputs": [
        {
          "output_type": "stream",
          "name": "stdout",
          "text": [
            "Found 2000 images belonging to 2 classes.\n",
            "Found 1000 images belonging to 2 classes.\n"
          ]
        }
      ],
      "source": [
        "# Adding rescale, rotation_range, width_shift_range, height_shift_range,\n",
        "# shear_range, zoom_range, and horizontal flip to our ImageDataGenerator\n",
        "train_datagen = ImageDataGenerator(\n",
        "    rescale=1./255,\n",
        "    rotation_range=20,\n",
        "    width_shift_range=0.1,\n",
        "    height_shift_range=0.1,\n",
        "    # shear_range=0.2,\n",
        "    # zoom_range=0.2,\n",
        "    horizontal_flip=True,)\n",
        "\n",
        "# Note that the validation data should not be augmented!\n",
        "val_datagen = ImageDataGenerator(rescale=1./255)\n",
        "\n",
        "#\n",
        "class_mode = 'binary' if last_layer_neurons == 1 else 'categorical'\n",
        "\n",
        "# Flow training images in batches of 32 using train_datagen generator\n",
        "train_generator = train_datagen.flow_from_directory(\n",
        "        train_dir,  # This is the source directory for training images\n",
        "        target_size=(150, 150),  # All images will be resized to 150x150\n",
        "        batch_size=20,\n",
        "        # Since we use binary_crossentropy loss, we need binary labels\n",
        "        class_mode=class_mode)\n",
        "\n",
        "# Flow validation images in batches of 32 using val_datagen generator\n",
        "validation_generator = val_datagen.flow_from_directory(\n",
        "        validation_dir,\n",
        "        target_size=(150, 150),\n",
        "        batch_size=20,\n",
        "        class_mode=class_mode)"
      ]
    },
    {
      "cell_type": "markdown",
      "metadata": {
        "id": "K-3PrfDwDJjB"
      },
      "source": [
        "If we train a new network using this data augmentation configuration, our network will never see the same input twice. However the inputs that it sees are still heavily intercorrelated, so this might not be quite enough to completely get rid of overfitting."
      ]
    },
    {
      "cell_type": "markdown",
      "metadata": {
        "id": "lYguAfH3gyv6"
      },
      "source": [
        "## Building a Small ConvNet\n"
      ]
    },
    {
      "cell_type": "code",
      "execution_count": 16,
      "metadata": {
        "id": "SVC4FgxiDje6"
      },
      "outputs": [],
      "source": [
        "from tensorflow.keras import layers\n",
        "from tensorflow.keras import Model\n",
        "from tensorflow.keras import optimizers\n",
        "\n",
        "# Our input feature map is 150x150x3: 150x150 for the image pixels, and 3 for\n",
        "# the three color channels: R, G, and B\n",
        "img_input = layers.Input(shape=(150, 150, 3))\n",
        "\n",
        "# First convolution extracts 32 filters that are 3x3\n",
        "# Convolution is followed by max-pooling layer with a 2x2 window\n",
        "x = layers.Conv2D(32, 3, activation='relu')(img_input) \n",
        "x = layers.MaxPooling2D(2)(x)\n",
        "\n",
        "# Second convolution extracts 64 filters that are 3x3\n",
        "# Convolution is followed by max-pooling layer with a 2x2 window\n",
        "x = layers.Conv2D(64, 3, activation='relu')(x) \n",
        "x = layers.MaxPooling2D(2)(x)\n",
        "\n",
        "# Third convolution extracts 128 filters that are 3x3\n",
        "# Convolution is followed by max-pooling layer with a 2x2 window\n",
        "x = layers.Convolution2D(128, 3, activation='relu')(x) \n",
        "x = layers.MaxPooling2D(2)(x)\n",
        "\n",
        "# Flatten feature map to a 1-dim tensor\n",
        "x = layers.Flatten()(x)\n",
        "\n",
        "# Create a fully connected layer with ReLU activation and 512 hidden units\n",
        "x = layers.Dense(512, activation='relu')(x) \n",
        "\n",
        "# Add a dropout rate of 0.5\n",
        "x = layers.Dropout(0.2)(x)\n",
        "\n",
        "# add output layer\n",
        "output = layers.Dense(last_layer_neurons, activation=last_layer_activation)(x)\n",
        "\n",
        "# Configure and compile the model\n",
        "model = Model(img_input, output)\n",
        "model.compile(loss=loss_function,\n",
        "              optimizer=optimizers.RMSprop(lr=1e-3),\n",
        "              metrics=['acc'])"
      ]
    },
    {
      "cell_type": "code",
      "execution_count": 17,
      "metadata": {
        "cellView": "code",
        "colab": {
          "base_uri": "https://localhost:8080/"
        },
        "id": "SdW6geEVi2S8",
        "outputId": "1e477cc3-1d59-48eb-fc3c-5b238ae12f32"
      },
      "outputs": [
        {
          "output_type": "stream",
          "name": "stdout",
          "text": [
            "Epoch 1/50\n",
            "100/100 [==============================] - 19s 182ms/step - loss: 0.8947 - acc: 0.5470 - val_loss: 0.6708 - val_acc: 0.5810\n",
            "Epoch 2/50\n",
            "100/100 [==============================] - 18s 178ms/step - loss: 0.6991 - acc: 0.6000 - val_loss: 0.6480 - val_acc: 0.6170\n",
            "Epoch 3/50\n",
            "100/100 [==============================] - 18s 179ms/step - loss: 0.6490 - acc: 0.6460 - val_loss: 0.5866 - val_acc: 0.6880\n",
            "Epoch 4/50\n",
            "100/100 [==============================] - 19s 188ms/step - loss: 0.6298 - acc: 0.6780 - val_loss: 0.6112 - val_acc: 0.6740\n",
            "Epoch 5/50\n",
            "100/100 [==============================] - 18s 178ms/step - loss: 0.5922 - acc: 0.6935 - val_loss: 2.0571 - val_acc: 0.5380\n",
            "Epoch 6/50\n",
            "100/100 [==============================] - 18s 180ms/step - loss: 0.5886 - acc: 0.6915 - val_loss: 0.5729 - val_acc: 0.6950\n",
            "Epoch 7/50\n",
            "100/100 [==============================] - 19s 188ms/step - loss: 0.5762 - acc: 0.7035 - val_loss: 0.5527 - val_acc: 0.7240\n",
            "Epoch 8/50\n",
            "100/100 [==============================] - 18s 179ms/step - loss: 0.5644 - acc: 0.7180 - val_loss: 0.5727 - val_acc: 0.7000\n",
            "Epoch 9/50\n",
            "100/100 [==============================] - 18s 179ms/step - loss: 0.5520 - acc: 0.7180 - val_loss: 0.7058 - val_acc: 0.5870\n",
            "Epoch 10/50\n",
            "100/100 [==============================] - 18s 177ms/step - loss: 0.5426 - acc: 0.7305 - val_loss: 0.5794 - val_acc: 0.6970\n",
            "Epoch 11/50\n",
            "100/100 [==============================] - 18s 180ms/step - loss: 0.5307 - acc: 0.7355 - val_loss: 0.5255 - val_acc: 0.7380\n",
            "Epoch 12/50\n",
            "100/100 [==============================] - 18s 180ms/step - loss: 0.5268 - acc: 0.7415 - val_loss: 0.6115 - val_acc: 0.7240\n",
            "Epoch 13/50\n",
            "100/100 [==============================] - 18s 178ms/step - loss: 0.5065 - acc: 0.7535 - val_loss: 0.5026 - val_acc: 0.7490\n",
            "Epoch 14/50\n",
            "100/100 [==============================] - 18s 177ms/step - loss: 0.5141 - acc: 0.7345 - val_loss: 0.5262 - val_acc: 0.7410\n",
            "Epoch 15/50\n",
            "100/100 [==============================] - 18s 178ms/step - loss: 0.4871 - acc: 0.7740 - val_loss: 0.4923 - val_acc: 0.7870\n",
            "Epoch 16/50\n",
            "100/100 [==============================] - 18s 178ms/step - loss: 0.5222 - acc: 0.7420 - val_loss: 0.5627 - val_acc: 0.7430\n",
            "Epoch 17/50\n",
            "100/100 [==============================] - 19s 187ms/step - loss: 0.5119 - acc: 0.7615 - val_loss: 0.4816 - val_acc: 0.7840\n",
            "Epoch 18/50\n",
            "100/100 [==============================] - 18s 179ms/step - loss: 0.4815 - acc: 0.7645 - val_loss: 0.5112 - val_acc: 0.7730\n",
            "Epoch 19/50\n",
            "100/100 [==============================] - 18s 178ms/step - loss: 0.4820 - acc: 0.7730 - val_loss: 0.4944 - val_acc: 0.7770\n",
            "Epoch 20/50\n",
            "100/100 [==============================] - 18s 178ms/step - loss: 0.4764 - acc: 0.7725 - val_loss: 0.4817 - val_acc: 0.7800\n",
            "Epoch 21/50\n",
            "100/100 [==============================] - 18s 179ms/step - loss: 0.4711 - acc: 0.7915 - val_loss: 0.5050 - val_acc: 0.7670\n",
            "Epoch 22/50\n",
            "100/100 [==============================] - 18s 177ms/step - loss: 0.4648 - acc: 0.7850 - val_loss: 0.4570 - val_acc: 0.7770\n",
            "Epoch 23/50\n",
            "100/100 [==============================] - 18s 177ms/step - loss: 0.4536 - acc: 0.7935 - val_loss: 0.5166 - val_acc: 0.7750\n",
            "Epoch 24/50\n",
            "100/100 [==============================] - 18s 176ms/step - loss: 0.4472 - acc: 0.7980 - val_loss: 0.4604 - val_acc: 0.8110\n",
            "Epoch 25/50\n",
            "100/100 [==============================] - 18s 177ms/step - loss: 0.4492 - acc: 0.8005 - val_loss: 0.4749 - val_acc: 0.7980\n",
            "Epoch 26/50\n",
            "100/100 [==============================] - 18s 179ms/step - loss: 0.4464 - acc: 0.7920 - val_loss: 0.4324 - val_acc: 0.8170\n",
            "Epoch 27/50\n",
            "100/100 [==============================] - 19s 188ms/step - loss: 0.4394 - acc: 0.7990 - val_loss: 0.4851 - val_acc: 0.7730\n",
            "Epoch 28/50\n",
            "100/100 [==============================] - 18s 178ms/step - loss: 0.4359 - acc: 0.8100 - val_loss: 0.4574 - val_acc: 0.8030\n",
            "Epoch 29/50\n",
            "100/100 [==============================] - 18s 178ms/step - loss: 0.4468 - acc: 0.7950 - val_loss: 0.4420 - val_acc: 0.8000\n",
            "Epoch 30/50\n",
            "100/100 [==============================] - 18s 178ms/step - loss: 0.4202 - acc: 0.8130 - val_loss: 0.4932 - val_acc: 0.7780\n",
            "Epoch 31/50\n",
            "100/100 [==============================] - 18s 177ms/step - loss: 0.4295 - acc: 0.8135 - val_loss: 0.5273 - val_acc: 0.7760\n",
            "Epoch 32/50\n",
            "100/100 [==============================] - 18s 178ms/step - loss: 0.4077 - acc: 0.8155 - val_loss: 0.5163 - val_acc: 0.7830\n",
            "Epoch 33/50\n",
            "100/100 [==============================] - 18s 179ms/step - loss: 0.4129 - acc: 0.8225 - val_loss: 0.4348 - val_acc: 0.7970\n",
            "Epoch 34/50\n",
            "100/100 [==============================] - 18s 178ms/step - loss: 0.4246 - acc: 0.8125 - val_loss: 0.4682 - val_acc: 0.8000\n",
            "Epoch 35/50\n",
            "100/100 [==============================] - 18s 181ms/step - loss: 0.4048 - acc: 0.8285 - val_loss: 0.4471 - val_acc: 0.8040\n",
            "Epoch 36/50\n",
            "100/100 [==============================] - 18s 178ms/step - loss: 0.4057 - acc: 0.8110 - val_loss: 0.4508 - val_acc: 0.8070\n",
            "Epoch 37/50\n",
            "100/100 [==============================] - 19s 187ms/step - loss: 0.3931 - acc: 0.8250 - val_loss: 0.5084 - val_acc: 0.8040\n",
            "Epoch 38/50\n",
            "100/100 [==============================] - 18s 177ms/step - loss: 0.3869 - acc: 0.8310 - val_loss: 0.6159 - val_acc: 0.8020\n",
            "Epoch 39/50\n",
            "100/100 [==============================] - 18s 176ms/step - loss: 0.4146 - acc: 0.8290 - val_loss: 0.5533 - val_acc: 0.7580\n",
            "Epoch 40/50\n",
            "100/100 [==============================] - 18s 176ms/step - loss: 0.3873 - acc: 0.8395 - val_loss: 0.4209 - val_acc: 0.8120\n",
            "Epoch 41/50\n",
            "100/100 [==============================] - 17s 174ms/step - loss: 0.3969 - acc: 0.8375 - val_loss: 0.4435 - val_acc: 0.8250\n",
            "Epoch 42/50\n",
            "100/100 [==============================] - 18s 175ms/step - loss: 0.3920 - acc: 0.8250 - val_loss: 0.4204 - val_acc: 0.8130\n",
            "Epoch 43/50\n",
            "100/100 [==============================] - 17s 175ms/step - loss: 0.4028 - acc: 0.8315 - val_loss: 0.4156 - val_acc: 0.8160\n",
            "Epoch 44/50\n",
            "100/100 [==============================] - 18s 177ms/step - loss: 0.3887 - acc: 0.8315 - val_loss: 0.4517 - val_acc: 0.8020\n",
            "Epoch 45/50\n",
            "100/100 [==============================] - 18s 179ms/step - loss: 0.3782 - acc: 0.8295 - val_loss: 0.4409 - val_acc: 0.8130\n",
            "Epoch 46/50\n",
            "100/100 [==============================] - 18s 178ms/step - loss: 0.3825 - acc: 0.8260 - val_loss: 0.4455 - val_acc: 0.8220\n",
            "Epoch 47/50\n",
            "100/100 [==============================] - 19s 185ms/step - loss: 0.3936 - acc: 0.8455 - val_loss: 0.6856 - val_acc: 0.7560\n",
            "Epoch 48/50\n",
            "100/100 [==============================] - 18s 177ms/step - loss: 0.3761 - acc: 0.8395 - val_loss: 0.5494 - val_acc: 0.7930\n",
            "Epoch 49/50\n",
            "100/100 [==============================] - 18s 179ms/step - loss: 0.3832 - acc: 0.8385 - val_loss: 0.4423 - val_acc: 0.8060\n",
            "Epoch 50/50\n",
            "100/100 [==============================] - 17s 175ms/step - loss: 0.3683 - acc: 0.8495 - val_loss: 0.4641 - val_acc: 0.7990\n"
          ]
        }
      ],
      "source": [
        "history = model.fit(\n",
        "      train_generator,\n",
        "      epochs=50,\n",
        "      validation_data=validation_generator,\n",
        "      verbose=1)"
      ]
    },
    {
      "cell_type": "markdown",
      "metadata": {
        "id": "1LTWMLV6SUvP"
      },
      "source": [
        "Note that with data augmentation in place, the 2,000 training images are randomly transformed each time a new training epoch runs, which means that the model will never see the same image twice during training."
      ]
    },
    {
      "cell_type": "markdown",
      "metadata": {
        "id": "IZqvC9UJlWc2"
      },
      "source": [
        "## Evaluate the Results\n",
        "\n",
        "Let's evaluate the results of model training with data augmentation and dropout:"
      ]
    },
    {
      "cell_type": "code",
      "execution_count": 18,
      "metadata": {
        "colab": {
          "base_uri": "https://localhost:8080/",
          "height": 562
        },
        "id": "NKCjHegASXaA",
        "outputId": "d2f9d8b0-4278-4df8-d4f4-f9e1a8e434e9"
      },
      "outputs": [
        {
          "output_type": "execute_result",
          "data": {
            "text/plain": [
              "Text(0.5, 1.0, 'Training and validation loss')"
            ]
          },
          "metadata": {},
          "execution_count": 18
        },
        {
          "output_type": "display_data",
          "data": {
            "text/plain": [
              "<Figure size 432x288 with 1 Axes>"
            ],
            "image/png": "[encoded data removed]"
          },
          "metadata": {
            "needs_background": "light"
          }
        },
        {
          "output_type": "display_data",
          "data": {
            "text/plain": [
              "<Figure size 432x288 with 1 Axes>"
            ],
            "image/png": "[encoded data removed]"
          },
          "metadata": {
            "needs_background": "light"
          }
        }
      ],
      "source": [
        "from matplotlib import pyplot as plt\n",
        "\n",
        "# Retrieve a list of accuracy results on training and validation data\n",
        "# sets for each training epoch\n",
        "acc = history.history['acc']\n",
        "val_acc = history.history['val_acc']\n",
        "\n",
        "# Retrieve a list of list results on training and validation data\n",
        "# sets for each training epoch\n",
        "loss = history.history['loss']\n",
        "val_loss = history.history['val_loss']\n",
        "\n",
        "# Get number of epochs\n",
        "epochs = range(len(acc))\n",
        "\n",
        "# Plot training and validation accuracy per epoch\n",
        "plt.plot(epochs, acc)\n",
        "plt.plot(epochs, val_acc)\n",
        "plt.title('Training and validation accuracy')\n",
        "\n",
        "plt.figure()\n",
        "\n",
        "# Plot training and validation loss per epoch\n",
        "plt.plot(epochs, loss)\n",
        "plt.plot(epochs, val_loss)\n",
        "plt.title('Training and validation loss')"
      ]
    }
  ],
  "metadata": {
    "accelerator": "GPU",
    "colab": {
      "collapsed_sections": [
        "GrFpZXNQB9FW"
      ],
      "provenance": []
    },
    "kernelspec": {
      "display_name": "Python 3 (ipykernel)",
      "language": "python",
      "name": "python3"
    },
    "language_info": {
      "codemirror_mode": {
        "name": "ipython",
        "version": 3
      },
      "file_extension": ".py",
      "mimetype": "text/x-python",
      "name": "python",
      "nbconvert_exporter": "python",
      "pygments_lexer": "ipython3",
      "version": "3.8.10"
    }
  },
  "nbformat": 4,
  "nbformat_minor": 0
}