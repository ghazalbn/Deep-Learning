{
  "nbformat": 4,
  "nbformat_minor": 0,
  "metadata": {
    "colab": {
      "provenance": []
    },
    "kernelspec": {
      "name": "python3",
      "display_name": "Python 3"
    },
    "language_info": {
      "name": "python"
    }
  },
  "cells": [
    {
      "cell_type": "code",
      "source": [
        "import numpy as np"
      ],
      "metadata": {
        "id": "FVfuGQLG_Uyu"
      },
      "execution_count": 1,
      "outputs": []
    },
    {
      "cell_type": "code",
      "execution_count": 2,
      "metadata": {
        "id": "W0E9kMBW-FrY"
      },
      "outputs": [],
      "source": [
        "def batch_norm(X, gamma, beta):\n",
        "  X_batch_norm = (X - np.mean(X, axis=0)) / np.std(X, axis=0)\n",
        "  Y = gamma * X_batch_norm + beta\n",
        "  return Y"
      ]
    },
    {
      "cell_type": "code",
      "source": [
        "def layer_norm(X, gamma, beta):\n",
        "  X_layer_norm = (X - np.mean(X, axis=1)) / np.std(X, axis=1)\n",
        "  Y = gamma * X_layer_norm + beta\n",
        "  return Y"
      ],
      "metadata": {
        "id": "YaWvrOSAA66R"
      },
      "execution_count": 3,
      "outputs": []
    },
    {
      "cell_type": "code",
      "source": [
        "X = np.array([\n",
        "  [20, 17, 32, 42, 65],\n",
        "  [13, 65, 96, 53, 21],\n",
        "  [45, 63, 74, 38, 64],\n",
        "  [23, 76, 40, 34, 26],\n",
        "  [14, 66, 78, 49, 23]\n",
        "])"
      ],
      "metadata": {
        "id": "TmjRf5x-BA7F"
      },
      "execution_count": 4,
      "outputs": []
    },
    {
      "cell_type": "code",
      "source": [
        "gamma = 1\n",
        "beta = 0"
      ],
      "metadata": {
        "id": "_4buofD4BSjX"
      },
      "execution_count": 5,
      "outputs": []
    },
    {
      "cell_type": "code",
      "source": [
        "print('batch normalization aoutput:\\n\\n', batch_norm(X, gamma, beta)) "
      ],
      "metadata": {
        "colab": {
          "base_uri": "https://localhost:8080/"
        },
        "id": "e0hCtvOTA6ot",
        "outputId": "7ffda463-a124-4a35-b8bf-a9e1fc927807"
      },
      "execution_count": 6,
      "outputs": [
        {
          "output_type": "stream",
          "name": "stdout",
          "text": [
            "batch normalization aoutput:\n",
            "\n",
            " [[-0.25839036 -1.95226042 -1.32416942 -0.17220347  1.24551178]\n",
            " [-0.8613012   0.36725691  1.32416942  1.40632837 -0.92919133]\n",
            " [ 1.89486265  0.27061036  0.41380294 -0.74621505  1.19608671]\n",
            " [ 0.          0.89881297 -0.99312707 -1.32022663 -0.68206597]\n",
            " [-0.77517108  0.41558019  0.57932412  0.83231679 -0.83034119]]\n"
          ]
        }
      ]
    },
    {
      "cell_type": "code",
      "source": [
        "print('layer normalization aoutput:\\n\\n', layer_norm(X, gamma, beta)) "
      ],
      "metadata": {
        "colab": {
          "base_uri": "https://localhost:8080/"
        },
        "id": "V0Rj__5PBX1n",
        "outputId": "c4ee5d31-203d-419c-8213-18c537c43921"
      },
      "execution_count": 7,
      "outputs": [
        {
          "output_type": "stream",
          "name": "stdout",
          "text": [
            "layer normalization aoutput:\n",
            "\n",
            " [[-0.87558998 -1.07958858 -1.87064621  0.11541284  0.77748801]\n",
            " [-1.27882221  0.5099897   2.95682788  0.69247703 -1.02301054]\n",
            " [ 0.56452512  0.44375727  1.29738366 -0.09442869  0.73656759]\n",
            " [-0.70277617  0.87426805 -1.26721195 -0.30427021 -0.81840843]\n",
            " [-1.22121761  0.54310591  1.59910079  0.48263551 -0.9411697 ]]\n"
          ]
        }
      ]
    },
    {
      "cell_type": "code",
      "source": [],
      "metadata": {
        "id": "MyCYfXVBBfHD"
      },
      "execution_count": 7,
      "outputs": []
    }
  ]
}